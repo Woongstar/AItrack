{
  "nbformat": 4,
  "nbformat_minor": 0,
  "metadata": {
    "colab": {
      "name": "선형회귀분석.ipynb",
      "provenance": [],
      "authorship_tag": "ABX9TyMc9egzYLV7z1XOn0MJmP2X",
      "include_colab_link": true
    },
    "kernelspec": {
      "name": "python3",
      "display_name": "Python 3"
    },
    "language_info": {
      "name": "python"
    }
  },
  "cells": [
    {
      "cell_type": "markdown",
      "metadata": {
        "id": "view-in-github",
        "colab_type": "text"
      },
      "source": [
        "<a href=\"https://colab.research.google.com/github/Woongstar/AItrack/blob/main/%EC%84%A0%ED%98%95%ED%9A%8C%EA%B7%80%EB%B6%84%EC%84%9D.ipynb\" target=\"_parent\"><img src=\"https://colab.research.google.com/assets/colab-badge.svg\" alt=\"Open In Colab\"/></a>"
      ]
    },
    {
      "cell_type": "code",
      "metadata": {
        "id": "JhNYInF2mFtA"
      },
      "source": [
        "from keras import optimizers\n",
        "from keras.models import Sequential\n",
        "from keras.layers import Dense\n",
        "import numpy as np\n",
        "import matplotlib.pyplot as plt\n",
        "%matplotlib inline"
      ],
      "execution_count": 1,
      "outputs": []
    },
    {
      "cell_type": "code",
      "metadata": {
        "id": "mxbQUHXJmGwJ"
      },
      "source": [
        "#데이터 생성\n",
        "X = np.linspace(0, 10, 10)\n",
        "Y = X + np.random.randn(*X.shape)"
      ],
      "execution_count": 2,
      "outputs": []
    },
    {
      "cell_type": "code",
      "metadata": {
        "colab": {
          "base_uri": "https://localhost:8080/"
        },
        "id": "54xjsf_bmJyN",
        "outputId": "31fb32e7-6715-440a-a4a4-3e057e2458a9"
      },
      "source": [
        "for x, y in zip(X,Y):\n",
        "    print((round(x,1), round(y,1)))"
      ],
      "execution_count": 3,
      "outputs": [
        {
          "output_type": "stream",
          "text": [
            "(0.0, -0.4)\n",
            "(1.1, -1.2)\n",
            "(2.2, 4.0)\n",
            "(3.3, 3.5)\n",
            "(4.4, 3.9)\n",
            "(5.6, 5.5)\n",
            "(6.7, 6.2)\n",
            "(7.8, 6.6)\n",
            "(8.9, 7.4)\n",
            "(10.0, 10.4)\n"
          ],
          "name": "stdout"
        }
      ]
    },
    {
      "cell_type": "code",
      "metadata": {
        "id": "eU9WQc_fmQGn"
      },
      "source": [
        "model = Sequential()\n",
        "model.add(Dense(input_dim=1, units=1, activation=\"linear\", use_bias=False))"
      ],
      "execution_count": 6,
      "outputs": []
    },
    {
      "cell_type": "code",
      "metadata": {
        "id": "RqLuvzydmdXh"
      },
      "source": [
        "sgd = optimizers.SGD(lr=0.05)\n",
        "model.compile(optimizer='sgd', loss='mse')"
      ],
      "execution_count": 8,
      "outputs": []
    },
    {
      "cell_type": "code",
      "metadata": {
        "colab": {
          "base_uri": "https://localhost:8080/"
        },
        "id": "n6Ekq5iFmxqe",
        "outputId": "3d674e1c-cf91-4f3d-b006-e0a04a246fd6"
      },
      "source": [
        "weights= model.layers[0].get_weights()\n",
        "weights\n"
      ],
      "execution_count": 15,
      "outputs": [
        {
          "output_type": "execute_result",
          "data": {
            "text/plain": [
              "[array([[0.4910351]], dtype=float32)]"
            ]
          },
          "metadata": {
            "tags": []
          },
          "execution_count": 15
        }
      ]
    },
    {
      "cell_type": "code",
      "metadata": {
        "colab": {
          "base_uri": "https://localhost:8080/"
        },
        "id": "QLMB8TcMm9I3",
        "outputId": "7b84f170-11d4-4398-dd5e-fe7accc9df2a"
      },
      "source": [
        "weights[0]\n"
      ],
      "execution_count": 16,
      "outputs": [
        {
          "output_type": "execute_result",
          "data": {
            "text/plain": [
              "array([[0.4910351]], dtype=float32)"
            ]
          },
          "metadata": {
            "tags": []
          },
          "execution_count": 16
        }
      ]
    },
    {
      "cell_type": "code",
      "metadata": {
        "colab": {
          "base_uri": "https://localhost:8080/"
        },
        "id": "uJ6Bv0WQnNnr",
        "outputId": "7a14a307-3f73-432a-8a0b-ed10138ff28a"
      },
      "source": [
        "weights[0][0]"
      ],
      "execution_count": 13,
      "outputs": [
        {
          "output_type": "execute_result",
          "data": {
            "text/plain": [
              "array([0.4910351], dtype=float32)"
            ]
          },
          "metadata": {
            "tags": []
          },
          "execution_count": 13
        }
      ]
    },
    {
      "cell_type": "code",
      "metadata": {
        "colab": {
          "base_uri": "https://localhost:8080/"
        },
        "id": "yaCoUet4nPGd",
        "outputId": "2dccbb6e-2049-4e89-a77f-13f9f4e3db0e"
      },
      "source": [
        "weights[0][0][0]"
      ],
      "execution_count": 14,
      "outputs": [
        {
          "output_type": "execute_result",
          "data": {
            "text/plain": [
              "0.4910351"
            ]
          },
          "metadata": {
            "tags": []
          },
          "execution_count": 14
        }
      ]
    },
    {
      "cell_type": "code",
      "metadata": {
        "colab": {
          "base_uri": "https://localhost:8080/"
        },
        "id": "jGazic6WnPcc",
        "outputId": "00707ac4-a5fa-48b1-e02c-40af78f0afba"
      },
      "source": [
        "model.fit(X,Y, batch_size=10,epochs=10,verbose=1)"
      ],
      "execution_count": 18,
      "outputs": [
        {
          "output_type": "stream",
          "text": [
            "Epoch 1/10\n",
            "1/1 [==============================] - 0s 5ms/step - loss: 1.1401\n",
            "Epoch 2/10\n",
            "1/1 [==============================] - 0s 5ms/step - loss: 1.1401\n",
            "Epoch 3/10\n",
            "1/1 [==============================] - 0s 3ms/step - loss: 1.1401\n",
            "Epoch 4/10\n",
            "1/1 [==============================] - 0s 5ms/step - loss: 1.1401\n",
            "Epoch 5/10\n",
            "1/1 [==============================] - 0s 3ms/step - loss: 1.1401\n",
            "Epoch 6/10\n",
            "1/1 [==============================] - 0s 4ms/step - loss: 1.1401\n",
            "Epoch 7/10\n",
            "1/1 [==============================] - 0s 3ms/step - loss: 1.1401\n",
            "Epoch 8/10\n",
            "1/1 [==============================] - 0s 3ms/step - loss: 1.1401\n",
            "Epoch 9/10\n",
            "1/1 [==============================] - 0s 3ms/step - loss: 1.1401\n",
            "Epoch 10/10\n",
            "1/1 [==============================] - 0s 4ms/step - loss: 1.1401\n"
          ],
          "name": "stdout"
        },
        {
          "output_type": "execute_result",
          "data": {
            "text/plain": [
              "<tensorflow.python.keras.callbacks.History at 0x7f97fa1e9250>"
            ]
          },
          "metadata": {
            "tags": []
          },
          "execution_count": 18
        }
      ]
    },
    {
      "cell_type": "code",
      "metadata": {
        "id": "jh0b_NyEntzX"
      },
      "source": [
        "weights = model.layers[0].get_weights()\n",
        "w = weights[0][0][0]"
      ],
      "execution_count": 20,
      "outputs": []
    },
    {
      "cell_type": "code",
      "metadata": {
        "colab": {
          "base_uri": "https://localhost:8080/",
          "height": 264
        },
        "id": "tSeK_Z4und08",
        "outputId": "92309982-93ed-428c-e6aa-7e626cc08ef1"
      },
      "source": [
        "plt.plot(X,Y,label='data')\n",
        "plt.plot(X, w+X, label=\"regression\")\n",
        "plt.legend()\n",
        "plt.show()"
      ],
      "execution_count": 22,
      "outputs": [
        {
          "output_type": "display_data",
          "data": {
            "image/png": "[encoded data removed]",
            "text/plain": [
              "<Figure size 432x288 with 1 Axes>"
            ]
          },
          "metadata": {
            "tags": [],
            "needs_background": "light"
          }
        }
      ]
    },
    {
      "cell_type": "code",
      "metadata": {
        "id": "sYOIG-EHnx-1"
      },
      "source": [
        ""
      ],
      "execution_count": null,
      "outputs": []
    }
  ]
}