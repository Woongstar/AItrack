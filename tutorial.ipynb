{
  "nbformat": 4,
  "nbformat_minor": 0,
  "metadata": {
    "colab": {
      "name": "tutorial.ipynb",
      "provenance": [],
      "authorship_tag": "ABX9TyNussmaRcp6LVs2VOkxqmZh",
      "include_colab_link": true
    },
    "kernelspec": {
      "name": "python3",
      "display_name": "Python 3"
    }
  },
  "cells": [
    {
      "cell_type": "markdown",
      "metadata": {
        "id": "view-in-github",
        "colab_type": "text"
      },
      "source": [
        "<a href=\"https://colab.research.google.com/github/Woongstar/AItrack/blob/main/tutorial.ipynb\" target=\"_parent\"><img src=\"https://colab.research.google.com/assets/colab-badge.svg\" alt=\"Open In Colab\"/></a>"
      ]
    },
    {
      "cell_type": "code",
      "metadata": {
        "id": "BCeSFmY5_e3l"
      },
      "source": [
        "from sklearn.datasets import load_diabetes\r\n",
        "diabetes = load_diabetes()"
      ],
      "execution_count": 3,
      "outputs": []
    },
    {
      "cell_type": "code",
      "metadata": {
        "colab": {
          "base_uri": "https://localhost:8080/"
        },
        "id": "ElNcZ2HKAYNQ",
        "outputId": "42c6dae6-895e-430f-b35a-7b0fdba9366f"
      },
      "source": [
        "print(diabetes.data.shape, diabetes.target.shape)"
      ],
      "execution_count": 4,
      "outputs": [
        {
          "output_type": "stream",
          "text": [
            "(442, 10) (442,)\n"
          ],
          "name": "stdout"
        }
      ]
    },
    {
      "cell_type": "code",
      "metadata": {
        "colab": {
          "base_uri": "https://localhost:8080/"
        },
        "id": "NdgoQT31Aes-",
        "outputId": "35154b8b-b0bc-4d34-a316-8822735bff1e"
      },
      "source": [
        "diabetes.data[:3]"
      ],
      "execution_count": 11,
      "outputs": [
        {
          "output_type": "execute_result",
          "data": {
            "text/plain": [
              "array([[ 0.03807591,  0.05068012,  0.06169621,  0.02187235, -0.0442235 ,\n",
              "        -0.03482076, -0.04340085, -0.00259226,  0.01990842, -0.01764613],\n",
              "       [-0.00188202, -0.04464164, -0.05147406, -0.02632783, -0.00844872,\n",
              "        -0.01916334,  0.07441156, -0.03949338, -0.06832974, -0.09220405],\n",
              "       [ 0.08529891,  0.05068012,  0.04445121, -0.00567061, -0.04559945,\n",
              "        -0.03419447, -0.03235593, -0.00259226,  0.00286377, -0.02593034]])"
            ]
          },
          "metadata": {
            "tags": []
          },
          "execution_count": 11
        }
      ]
    },
    {
      "cell_type": "code",
      "metadata": {
        "colab": {
          "base_uri": "https://localhost:8080/"
        },
        "id": "PeHAphN9Ao6l",
        "outputId": "2a3f180c-5de1-459c-db89-9583d022fbe2"
      },
      "source": [
        "diabetes.target[:3]"
      ],
      "execution_count": 12,
      "outputs": [
        {
          "output_type": "execute_result",
          "data": {
            "text/plain": [
              "array([151.,  75., 141.])"
            ]
          },
          "metadata": {
            "tags": []
          },
          "execution_count": 12
        }
      ]
    },
    {
      "cell_type": "code",
      "metadata": {
        "id": "cbxQpE6SA-5v"
      },
      "source": [
        "import matplotlib.pyplot as plt"
      ],
      "execution_count": 13,
      "outputs": []
    },
    {
      "cell_type": "code",
      "metadata": {
        "colab": {
          "base_uri": "https://localhost:8080/",
          "height": 297
        },
        "id": "zWvi4BeZBPFc",
        "outputId": "93551b32-c255-4f76-a8be-bda116449f4f"
      },
      "source": [
        "plt.scatter(diabetes.data[:,2], diabetes.target)\r\n",
        "plt.xlabel('x')\r\n",
        "plt.ylabel('y')\r\n",
        "plt.show"
      ],
      "execution_count": 16,
      "outputs": [
        {
          "output_type": "execute_result",
          "data": {
            "text/plain": [
              "<function matplotlib.pyplot.show>"
            ]
          },
          "metadata": {
            "tags": []
          },
          "execution_count": 16
        },
        {
          "output_type": "display_data",
          "data": {
            "image/png": "[encoded data removed]",
            "text/plain": [
              "<Figure size 432x288 with 1 Axes>"
            ]
          },
          "metadata": {
            "tags": [],
            "needs_background": "light"
          }
        }
      ]
    },
    {
      "cell_type": "code",
      "metadata": {
        "id": "hMp7mMIBBZNr"
      },
      "source": [
        "x= diabetes.data[:,2]\r\n",
        "y= diabetes.target"
      ],
      "execution_count": 17,
      "outputs": []
    },
    {
      "cell_type": "code",
      "metadata": {
        "id": "WOtfGdYqByO4"
      },
      "source": [
        "w = 1.0\r\n",
        "b = 1.0"
      ],
      "execution_count": 18,
      "outputs": []
    },
    {
      "cell_type": "code",
      "metadata": {
        "colab": {
          "base_uri": "https://localhost:8080/"
        },
        "id": "RKGJdSCLFfg_",
        "outputId": "b0398b4b-8c5f-4bd9-d8d7-97bcedb4ebb6"
      },
      "source": [
        "y_hat = x[0] *w +b\r\n",
        "print(y_hat)"
      ],
      "execution_count": 19,
      "outputs": [
        {
          "output_type": "stream",
          "text": [
            "1.0616962065186886\n"
          ],
          "name": "stdout"
        }
      ]
    },
    {
      "cell_type": "code",
      "metadata": {
        "colab": {
          "base_uri": "https://localhost:8080/"
        },
        "id": "pMwFH_T_Fky7",
        "outputId": "9349a30e-674e-4d0b-fe62-06ed4a0cd4a9"
      },
      "source": [
        "print(y[0])"
      ],
      "execution_count": 21,
      "outputs": [
        {
          "output_type": "stream",
          "text": [
            "151.0\n"
          ],
          "name": "stdout"
        }
      ]
    },
    {
      "cell_type": "code",
      "metadata": {
        "colab": {
          "base_uri": "https://localhost:8080/"
        },
        "id": "SqmsZgQrFpEV",
        "outputId": "d5844836-7939-40c0-bbdf-7d1b27c0a257"
      },
      "source": [
        "w_inc = w +0.1\r\n",
        "y_hat_inc = x[0] * w_inc + b\r\n",
        "print(y_hat_inc)"
      ],
      "execution_count": 22,
      "outputs": [
        {
          "output_type": "stream",
          "text": [
            "1.0678658271705574\n"
          ],
          "name": "stdout"
        }
      ]
    },
    {
      "cell_type": "code",
      "metadata": {
        "colab": {
          "base_uri": "https://localhost:8080/"
        },
        "id": "gTdqy8PdF0iy",
        "outputId": "af0bb065-0e72-4681-de62-2f3b862fc39c"
      },
      "source": [
        "w_rate = (y_hat_inc-y_hat) / (w_inc-w)\r\n",
        "print(w_rate)"
      ],
      "execution_count": 23,
      "outputs": [
        {
          "output_type": "stream",
          "text": [
            "0.061696206518688734\n"
          ],
          "name": "stdout"
        }
      ]
    },
    {
      "cell_type": "code",
      "metadata": {
        "colab": {
          "base_uri": "https://localhost:8080/"
        },
        "id": "lfG3hBtyGFx_",
        "outputId": "5e22c27c-72b9-486d-acda-b2400992ee16"
      },
      "source": [
        "w_new = w + w_rate\r\n",
        "print(w_new)"
      ],
      "execution_count": 25,
      "outputs": [
        {
          "output_type": "stream",
          "text": [
            "1.0616962065186888\n"
          ],
          "name": "stdout"
        }
      ]
    },
    {
      "cell_type": "code",
      "metadata": {
        "colab": {
          "base_uri": "https://localhost:8080/"
        },
        "id": "kCCOmVyIHD1C",
        "outputId": "98d12bae-b41e-435e-d1ca-362bab5eac3b"
      },
      "source": [
        " b_inc = b+0.1\r\n",
        " y_hat_inc = x[0]*w + b_inc\r\n",
        " print(y_hat_inc)\r\n"
      ],
      "execution_count": 27,
      "outputs": [
        {
          "output_type": "stream",
          "text": [
            "1.1616962065186887\n"
          ],
          "name": "stdout"
        }
      ]
    },
    {
      "cell_type": "code",
      "metadata": {
        "colab": {
          "base_uri": "https://localhost:8080/"
        },
        "id": "a9dows0EH_Gz",
        "outputId": "fab804f2-3a92-43c9-d98f-60c2a6785bfa"
      },
      "source": [
        "b_rate = (y_hat_inc-y_hat) /(b_inc-b)\r\n",
        "print(b_rate)"
      ],
      "execution_count": 28,
      "outputs": [
        {
          "output_type": "stream",
          "text": [
            "1.0\n"
          ],
          "name": "stdout"
        }
      ]
    },
    {
      "cell_type": "code",
      "metadata": {
        "colab": {
          "base_uri": "https://localhost:8080/"
        },
        "id": "5uRX0LFuIMUJ",
        "outputId": "e00411e1-868c-4f44-d0e4-fc69fb0dda77"
      },
      "source": [
        "b_new = b+1\r\n",
        "print(b_new)"
      ],
      "execution_count": 30,
      "outputs": [
        {
          "output_type": "stream",
          "text": [
            "2.0\n"
          ],
          "name": "stdout"
        }
      ]
    },
    {
      "cell_type": "code",
      "metadata": {
        "colab": {
          "base_uri": "https://localhost:8080/"
        },
        "id": "wVPoLuNUKNlY",
        "outputId": "25a6d0e4-e8dc-4eb9-e4be-8ad818f30e2e"
      },
      "source": [
        "err = y[0]-y_hat\r\n",
        "w_new = w + w_rate*err\r\n",
        "b_new = b + 1*err\r\n",
        "print(w_new,b_new)"
      ],
      "execution_count": 32,
      "outputs": [
        {
          "output_type": "stream",
          "text": [
            "10.250624555904514 150.9383037934813\n"
          ],
          "name": "stdout"
        }
      ]
    },
    {
      "cell_type": "code",
      "metadata": {
        "colab": {
          "base_uri": "https://localhost:8080/"
        },
        "id": "Iyg1zX94KcHv",
        "outputId": "9ae39bc5-95c2-4c46-f5a7-b1ad6191b8e8"
      },
      "source": [
        "y_hat = x[1] * w_new + b_new\r\n",
        "err = y[1] - y_hat\r\n",
        "w_rate = x[1]\r\n",
        "w_new = w_new + w_rate * err\r\n",
        "b_new = b_new + 1*err\r\n",
        "print(w_new,b_new)"
      ],
      "execution_count": 35,
      "outputs": [
        {
          "output_type": "stream",
          "text": [
            "10.250570203245076 150.93935971675856\n"
          ],
          "name": "stdout"
        }
      ]
    },
    {
      "cell_type": "code",
      "metadata": {
        "colab": {
          "base_uri": "https://localhost:8080/"
        },
        "id": "IYzsSxTeK-iY",
        "outputId": "bc68dcde-83c9-4107-e972-569a5b5746c3"
      },
      "source": [
        "for x_i, y_i in zip(x,y):\r\n",
        "  y_hat = x_i * w +b\r\n",
        "  err = y_i-y_hat\r\n",
        "  w_rate = x_i\r\n",
        "  w = w + w_rate * err\r\n",
        "  b = b+1*err\r\n",
        "\r\n",
        "print(w,b)"
      ],
      "execution_count": 37,
      "outputs": [
        {
          "output_type": "stream",
          "text": [
            "585.2273902155487 99.21510569782703\n"
          ],
          "name": "stdout"
        }
      ]
    },
    {
      "cell_type": "code",
      "metadata": {
        "colab": {
          "base_uri": "https://localhost:8080/",
          "height": 279
        },
        "id": "Bgw4vs_HMDL-",
        "outputId": "3f20204c-6561-4d68-c49d-673ac40d10b7"
      },
      "source": [
        "plt.scatter(x,y)\r\n",
        "pt1 = (-0.1, -0.1 * w +b)\r\n",
        "pt2 = (0.15, 0.15*w + b)\r\n",
        "plt.plot(pt1[0],pt2[0],[pt1[1],pt2[1]])\r\n",
        "plt.xlabel(\"x\")\r\n",
        "plt.ylabel(\"y\")\r\n",
        "plt.show()"
      ],
      "execution_count": 39,
      "outputs": [
        {
          "output_type": "display_data",
          "data": {
            "image/png": "[encoded data removed]",
            "text/plain": [
              "<Figure size 432x288 with 1 Axes>"
            ]
          },
          "metadata": {
            "tags": [],
            "needs_background": "light"
          }
        }
      ]
    },
    {
      "cell_type": "code",
      "metadata": {
        "colab": {
          "base_uri": "https://localhost:8080/"
        },
        "id": "wLIa7sMYM40L",
        "outputId": "db7eb490-575f-4d5b-a335-b5a564ad24b2"
      },
      "source": [
        "for i in range(1,100):\r\n",
        "  for x_i, y_1 in zip(x,y):\r\n",
        "    y_hat = x_i * w+b\r\n",
        "    err = y_i - y_hat\r\n",
        "    w_rate = x_i\r\n",
        "    w = w+w_rate * err\r\n",
        "    b = b+1 * err\r\n",
        "  print(w,b)"
      ],
      "execution_count": 40,
      "outputs": [
        {
          "output_type": "stream",
          "text": [
            "209.69542994214953 72.44061463439498\n",
            "75.12987315958243 62.532077734398506\n",
            "26.9176006483887 58.98203794240519\n",
            "9.644062929896213 57.71012639260409\n",
            "3.4552838126516203 57.2544247426772\n",
            "1.2379622896240052 57.091155532818576\n",
            "0.44353827749825875 57.032659288856905\n",
            "0.1589113055017792 57.01170120030741\n",
            "0.05693488994617758 57.00419231690053\n",
            "0.020398685184465658 57.001502027188046\n",
            "0.0073084598503359785 57.00053814769426\n",
            "0.0026184817747293572 57.000192808055104\n",
            "0.0009381520792366332 57.000069079448835\n",
            "0.0003361219972056411 57.00002474984901\n",
            "0.00012042610095746696 57.00000886739886\n",
            "4.314637516263474e-05 57.00000317701989\n",
            "1.545852331655274e-05 57.00000113826563\n",
            "5.538494075709721e-06 57.00000040781887\n",
            "1.9843367925965736e-06 57.00000014611372\n",
            "7.109500264294812e-07 57.00000005234976\n",
            "2.547198353168705e-07 57.00000001875592\n",
            "9.126125664602801e-08 57.00000000671989\n",
            "3.26971642490275e-08 57.00000000240761\n",
            "1.1714767211055353e-08 57.0000000008626\n",
            "4.197176283108987e-09 57.00000000030905\n",
            "1.503768433358268e-09 57.00000000011073\n",
            "5.387745286905398e-10 57.00000000003967\n",
            "1.93030158837569e-10 57.00000000001421\n",
            "6.91582353302148e-11 57.000000000005095\n",
            "2.477749840739136e-11 57.000000000001826\n",
            "8.876201617741622e-12 57.000000000000654\n",
            "3.1791097039265985e-12 57.000000000000234\n",
            "1.1410934862649532e-12 57.000000000000085\n",
            "4.065696251357841e-13 57.00000000000003\n",
            "1.429188975011978e-13 57.00000000000001\n",
            "5.041410583163322e-14 57.00000000000001\n",
            "3.362522454728875e-14 57.0\n",
            "2.7161606352975262e-14 57.0\n",
            "2.442758775656541e-14 57.0\n",
            "2.1693569160155558e-14 57.0\n",
            "2.0498871958363015e-14 57.0\n",
            "2.0498871958363015e-14 57.0\n",
            "2.0498871958363015e-14 57.0\n",
            "2.0498871958363015e-14 57.0\n",
            "2.0498871958363015e-14 57.0\n",
            "2.0498871958363015e-14 57.0\n",
            "2.0498871958363015e-14 57.0\n",
            "2.0498871958363015e-14 57.0\n",
            "2.0498871958363015e-14 57.0\n",
            "2.0498871958363015e-14 57.0\n",
            "2.0498871958363015e-14 57.0\n",
            "2.0498871958363015e-14 57.0\n",
            "2.0498871958363015e-14 57.0\n",
            "2.0498871958363015e-14 57.0\n",
            "2.0498871958363015e-14 57.0\n",
            "2.0498871958363015e-14 57.0\n",
            "2.0498871958363015e-14 57.0\n",
            "2.0498871958363015e-14 57.0\n",
            "2.0498871958363015e-14 57.0\n",
            "2.0498871958363015e-14 57.0\n",
            "2.0498871958363015e-14 57.0\n",
            "2.0498871958363015e-14 57.0\n",
            "2.0498871958363015e-14 57.0\n",
            "2.0498871958363015e-14 57.0\n",
            "2.0498871958363015e-14 57.0\n",
            "2.0498871958363015e-14 57.0\n",
            "2.0498871958363015e-14 57.0\n",
            "2.0498871958363015e-14 57.0\n",
            "2.0498871958363015e-14 57.0\n",
            "2.0498871958363015e-14 57.0\n",
            "2.0498871958363015e-14 57.0\n",
            "2.0498871958363015e-14 57.0\n",
            "2.0498871958363015e-14 57.0\n",
            "2.0498871958363015e-14 57.0\n",
            "2.0498871958363015e-14 57.0\n",
            "2.0498871958363015e-14 57.0\n",
            "2.0498871958363015e-14 57.0\n",
            "2.0498871958363015e-14 57.0\n",
            "2.0498871958363015e-14 57.0\n",
            "2.0498871958363015e-14 57.0\n",
            "2.0498871958363015e-14 57.0\n",
            "2.0498871958363015e-14 57.0\n",
            "2.0498871958363015e-14 57.0\n",
            "2.0498871958363015e-14 57.0\n",
            "2.0498871958363015e-14 57.0\n",
            "2.0498871958363015e-14 57.0\n",
            "2.0498871958363015e-14 57.0\n",
            "2.0498871958363015e-14 57.0\n",
            "2.0498871958363015e-14 57.0\n",
            "2.0498871958363015e-14 57.0\n",
            "2.0498871958363015e-14 57.0\n",
            "2.0498871958363015e-14 57.0\n",
            "2.0498871958363015e-14 57.0\n",
            "2.0498871958363015e-14 57.0\n",
            "2.0498871958363015e-14 57.0\n",
            "2.0498871958363015e-14 57.0\n",
            "2.0498871958363015e-14 57.0\n",
            "2.0498871958363015e-14 57.0\n",
            "2.0498871958363015e-14 57.0\n"
          ],
          "name": "stdout"
        }
      ]
    },
    {
      "cell_type": "code",
      "metadata": {
        "colab": {
          "base_uri": "https://localhost:8080/",
          "height": 279
        },
        "id": "GfSlTppENbgd",
        "outputId": "ddcb37a9-bd5b-4598-a2c5-32bfd5c925f3"
      },
      "source": [
        "plt.scatter(x,y)\r\n",
        "pt1 = (-0.1, -0.1*w +b)\r\n",
        "pt2 = (0.15, 0.15*w + b)\r\n",
        "plt.plot(pt1[0],pt2[0],[pt1[1],pt2[1]])\r\n",
        "plt.xlabel(\"x\")\r\n",
        "plt.ylabel(\"y\")\r\n",
        "plt.show()"
      ],
      "execution_count": 41,
      "outputs": [
        {
          "output_type": "display_data",
          "data": {
            "image/png": "[encoded data removed]",
            "text/plain": [
              "<Figure size 432x288 with 1 Axes>"
            ]
          },
          "metadata": {
            "tags": [],
            "needs_background": "light"
          }
        }
      ]
    },
    {
      "cell_type": "code",
      "metadata": {
        "id": "Lw6H75LHNo9b"
      },
      "source": [
        ""
      ],
      "execution_count": null,
      "outputs": []
    }
  ]
}