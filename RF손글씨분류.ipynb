{
  "nbformat": 4,
  "nbformat_minor": 0,
  "metadata": {
    "colab": {
      "name": "RF손글씨분류.ipynb",
      "provenance": [],
      "authorship_tag": "ABX9TyPk+AAauffBI+xc4i+Bg0RU",
      "include_colab_link": true
    },
    "kernelspec": {
      "name": "python3",
      "display_name": "Python 3"
    },
    "language_info": {
      "name": "python"
    }
  },
  "cells": [
    {
      "cell_type": "markdown",
      "metadata": {
        "id": "view-in-github",
        "colab_type": "text"
      },
      "source": [
        "<a href=\"https://colab.research.google.com/github/Woongstar/AItrack/blob/main/RF%EC%86%90%EA%B8%80%EC%94%A8%EB%B6%84%EB%A5%98.ipynb\" target=\"_parent\"><img src=\"https://colab.research.google.com/assets/colab-badge.svg\" alt=\"Open In Colab\"/></a>"
      ]
    },
    {
      "cell_type": "code",
      "metadata": {
        "id": "Geh0PN-eZVci"
      },
      "source": [
        "from sklearn import datasets\n",
        "from sklearn import tree\n",
        "from sklearn.ensemble import RandomForestClassifier\n",
        "from sklearn.model_selection import cross_val_score\n",
        "\n",
        "import matplotlib.pyplot as plt\n",
        "import pandas as pd\n",
        "import numpy as np"
      ],
      "execution_count": 1,
      "outputs": []
    },
    {
      "cell_type": "code",
      "metadata": {
        "id": "WtaT4Ss3ZW_t"
      },
      "source": [
        "mnist = datasets.load_digits()\n",
        "features, labels = mnist.data, mnist.target"
      ],
      "execution_count": 2,
      "outputs": []
    },
    {
      "cell_type": "code",
      "metadata": {
        "id": "thZFXMoOZYmQ"
      },
      "source": [
        "def cross_validation(classifier,features, labels):\n",
        "    cv_scores = []\n",
        "\n",
        "    for i in range(10):\n",
        "        scores = cross_val_score(classifier, features, labels, cv=10, scoring='accuracy')\n",
        "        cv_scores.append(scores.mean())\n",
        "    \n",
        "    return cv_scores"
      ],
      "execution_count": 3,
      "outputs": []
    },
    {
      "cell_type": "code",
      "metadata": {
        "id": "hTzdQPMzZdIJ"
      },
      "source": [
        "dt_cv_scores = cross_validation(tree.DecisionTreeClassifier(), features, labels)"
      ],
      "execution_count": 15,
      "outputs": []
    },
    {
      "cell_type": "code",
      "metadata": {
        "id": "0EzS0E8QanQd"
      },
      "source": [
        "rf_cv_scores = cross_validation(RandomForestClassifier(), features, labels)"
      ],
      "execution_count": 16,
      "outputs": []
    },
    {
      "cell_type": "code",
      "metadata": {
        "colab": {
          "base_uri": "https://localhost:8080/"
        },
        "id": "ecx9vE-rZ7pl",
        "outputId": "50878173-3902-4117-a379-129bb2a1dfed"
      },
      "source": [
        "np.mean(dt_cv_scores)"
      ],
      "execution_count": 17,
      "outputs": [
        {
          "output_type": "execute_result",
          "data": {
            "text/plain": [
              "0.8253041589075109"
            ]
          },
          "metadata": {
            "tags": []
          },
          "execution_count": 17
        }
      ]
    },
    {
      "cell_type": "code",
      "metadata": {
        "colab": {
          "base_uri": "https://localhost:8080/"
        },
        "id": "vMelkVq2a1Hu",
        "outputId": "9d19fc61-b895-4304-90b6-a4ca515770dc"
      },
      "source": [
        "np.mean(rf_cv_scores)"
      ],
      "execution_count": 18,
      "outputs": [
        {
          "output_type": "execute_result",
          "data": {
            "text/plain": [
              "0.9497988826815641"
            ]
          },
          "metadata": {
            "tags": []
          },
          "execution_count": 18
        }
      ]
    },
    {
      "cell_type": "code",
      "metadata": {
        "id": "rUV3ZK-fa2lP"
      },
      "source": [
        ""
      ],
      "execution_count": null,
      "outputs": []
    }
  ]
}