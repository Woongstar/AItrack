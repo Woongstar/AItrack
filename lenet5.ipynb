{
  "nbformat": 4,
  "nbformat_minor": 0,
  "metadata": {
    "colab": {
      "name": "lenet5.ipynb",
      "provenance": [],
      "collapsed_sections": [],
      "authorship_tag": "ABX9TyPftbxcBgilfD1XRu6BHxzk",
      "include_colab_link": true
    },
    "kernelspec": {
      "name": "python3",
      "display_name": "Python 3"
    }
  },
  "cells": [
    {
      "cell_type": "markdown",
      "metadata": {
        "id": "view-in-github",
        "colab_type": "text"
      },
      "source": [
        "<a href=\"https://colab.research.google.com/github/Woongstar/AItrack/blob/main/lenet5.ipynb\" target=\"_parent\"><img src=\"https://colab.research.google.com/assets/colab-badge.svg\" alt=\"Open In Colab\"/></a>"
      ]
    },
    {
      "cell_type": "code",
      "metadata": {
        "id": "Wa4tQdo8rD9r"
      },
      "source": [
        "import tensorflow as tf\r\n",
        "import pandas as pd"
      ],
      "execution_count": null,
      "outputs": []
    },
    {
      "cell_type": "code",
      "metadata": {
        "colab": {
          "base_uri": "https://localhost:8080/"
        },
        "id": "U6l1DkFQrUB0",
        "outputId": "6bc95cf4-5efa-48d9-b838-18ed276574c1"
      },
      "source": [
        "(독립,종속),_ = tf.keras.datasets.mnist.load_data()\r\n",
        "독립 = 독립.reshape(60000,28,28,1)\r\n",
        "종속 = pd.get_dummies(종속)\r\n",
        "print(독립.shape, 종속.shape)"
      ],
      "execution_count": null,
      "outputs": [
        {
          "output_type": "stream",
          "text": [
            "(60000, 28, 28, 1) (60000, 10)\n"
          ],
          "name": "stdout"
        }
      ]
    },
    {
      "cell_type": "code",
      "metadata": {
        "id": "ZhIigEKjriep"
      },
      "source": [
        "x= tf.keras.layers.Input(shape=[28,28,1])\r\n",
        "\r\n",
        "h= tf.keras.layers.Conv2D(6, kernel_size=5, padding='same', activation='swish')(x)\r\n",
        "h= tf.keras.layers.MaxPool2D()(h)\r\n",
        "\r\n",
        "h=tf.keras.layers.Conv2D(16, kernel_size=5, activation='swish')(h)\r\n",
        "h=tf.keras.layers.MaxPool2D()(h)\r\n",
        "\r\n",
        "h=tf.keras.layers.Flatten()(h)\r\n",
        "h=tf.keras.layers.Dense(120,activation='swish')(h)\r\n",
        "h=tf.keras.layers.Dense(84, activation='swish')(h)\r\n",
        "y=tf.keras.layers.Dense(10, activation='softmax')(h)\r\n",
        "\r\n",
        "model = tf.keras.models.Model(x,y)\r\n",
        "model.compile(loss='categorical_crossentropy', metrics='accuracy')"
      ],
      "execution_count": null,
      "outputs": []
    },
    {
      "cell_type": "code",
      "metadata": {
        "colab": {
          "base_uri": "https://localhost:8080/"
        },
        "id": "ZM4w6jmgwXF0",
        "outputId": "cf412d6c-567a-4fb5-d2f5-ec18265b0cdc"
      },
      "source": [
        "model.fit(독립, 종속, epochs=10)"
      ],
      "execution_count": null,
      "outputs": [
        {
          "output_type": "stream",
          "text": [
            "Epoch 1/10\n",
            "1875/1875 [==============================] - 38s 19ms/step - loss: 0.9092 - accuracy: 0.8660\n",
            "Epoch 2/10\n",
            "1875/1875 [==============================] - 37s 20ms/step - loss: 0.0846 - accuracy: 0.9755\n",
            "Epoch 3/10\n",
            "1875/1875 [==============================] - 37s 20ms/step - loss: 0.0716 - accuracy: 0.9799\n",
            "Epoch 4/10\n",
            "1875/1875 [==============================] - 37s 20ms/step - loss: 0.0609 - accuracy: 0.9847\n",
            "Epoch 5/10\n",
            "1875/1875 [==============================] - 37s 20ms/step - loss: 0.0572 - accuracy: 0.9857\n",
            "Epoch 6/10\n",
            "1875/1875 [==============================] - 37s 20ms/step - loss: 0.0609 - accuracy: 0.9863\n",
            "Epoch 7/10\n",
            "1875/1875 [==============================] - 36s 19ms/step - loss: 0.0631 - accuracy: 0.9849\n",
            "Epoch 8/10\n",
            "1875/1875 [==============================] - 36s 19ms/step - loss: 0.0602 - accuracy: 0.9870\n",
            "Epoch 9/10\n",
            "1875/1875 [==============================] - 36s 19ms/step - loss: 0.0584 - accuracy: 0.9880\n",
            "Epoch 10/10\n",
            "1875/1875 [==============================] - 36s 19ms/step - loss: 0.0662 - accuracy: 0.9865\n"
          ],
          "name": "stdout"
        },
        {
          "output_type": "execute_result",
          "data": {
            "text/plain": [
              "<tensorflow.python.keras.callbacks.History at 0x7f6635af72b0>"
            ]
          },
          "metadata": {
            "tags": []
          },
          "execution_count": 21
        }
      ]
    },
    {
      "cell_type": "code",
      "metadata": {
        "colab": {
          "base_uri": "https://localhost:8080/"
        },
        "id": "6-9nYtyxw0Rx",
        "outputId": "49d27fdc-84fb-4011-81ec-536b005c7d35"
      },
      "source": [
        " (독립, 종속),_ = tf.keras.datasets.cifar10.load_data()\r\n",
        " print(독립.shape, 종속.shape)\r\n",
        "\r\n",
        " 종속 = pd.get_dummies(종속.reshape(50000))\r\n",
        " print(독립.shape, 종속.shape)\r\n"
      ],
      "execution_count": null,
      "outputs": [
        {
          "output_type": "stream",
          "text": [
            "(50000, 32, 32, 3) (50000, 1)\n",
            "(50000, 32, 32, 3) (50000, 10)\n"
          ],
          "name": "stdout"
        }
      ]
    },
    {
      "cell_type": "code",
      "metadata": {
        "id": "50ogmOVjx9Rr"
      },
      "source": [
        "x= tf.keras.layers.Input(shape=[32,32,3])\r\n",
        "\r\n",
        "h= tf.keras.layers.Conv2D(6, kernel_size=5, padding='same', activation='swish')(x)\r\n",
        "h= tf.keras.layers.MaxPool2D()(h)\r\n",
        "\r\n",
        "h=tf.keras.layers.Conv2D(16, kernel_size=5, activation='swish')(h)\r\n",
        "h=tf.keras.layers.MaxPool2D()(h)\r\n",
        "\r\n",
        "h=tf.keras.layers.Flatten()(h)\r\n",
        "h=tf.keras.layers.Dense(120,activation='swish')(h)\r\n",
        "h=tf.keras.layers.Dense(84, activation='swish')(h)\r\n",
        "y=tf.keras.layers.Dense(10, activation='softmax')(h)\r\n",
        "\r\n",
        "model = tf.keras.models.Model(x,y)\r\n",
        "model.compile(loss='categorical_crossentropy', metrics='accuracy')"
      ],
      "execution_count": null,
      "outputs": []
    },
    {
      "cell_type": "code",
      "metadata": {
        "colab": {
          "base_uri": "https://localhost:8080/"
        },
        "id": "HuyJ2Zv2zVHe",
        "outputId": "e97b13a0-c460-437c-9523-cb781e2a2091"
      },
      "source": [
        "model.fit(독립, 종속, epochs=10)"
      ],
      "execution_count": null,
      "outputs": [
        {
          "output_type": "stream",
          "text": [
            "Epoch 1/10\n",
            "1563/1563 [==============================] - 49s 31ms/step - loss: 2.9379 - accuracy: 0.2242\n",
            "Epoch 2/10\n",
            "1563/1563 [==============================] - 48s 31ms/step - loss: 1.6176 - accuracy: 0.4155\n",
            "Epoch 3/10\n",
            "1563/1563 [==============================] - 48s 31ms/step - loss: 1.4874 - accuracy: 0.4737\n",
            "Epoch 4/10\n",
            "1563/1563 [==============================] - 48s 31ms/step - loss: 1.4056 - accuracy: 0.5025\n",
            "Epoch 5/10\n",
            "1563/1563 [==============================] - 48s 31ms/step - loss: 1.3548 - accuracy: 0.5233\n",
            "Epoch 6/10\n",
            "1563/1563 [==============================] - 49s 31ms/step - loss: 1.3337 - accuracy: 0.5375\n",
            "Epoch 7/10\n",
            "1563/1563 [==============================] - 49s 31ms/step - loss: 1.3143 - accuracy: 0.5429\n",
            "Epoch 8/10\n",
            "1563/1563 [==============================] - 49s 31ms/step - loss: 1.3121 - accuracy: 0.5477\n",
            "Epoch 9/10\n",
            "1563/1563 [==============================] - 48s 31ms/step - loss: 1.3054 - accuracy: 0.5516\n",
            "Epoch 10/10\n",
            "1563/1563 [==============================] - 48s 31ms/step - loss: 1.3027 - accuracy: 0.5542\n"
          ],
          "name": "stdout"
        },
        {
          "output_type": "execute_result",
          "data": {
            "text/plain": [
              "<tensorflow.python.keras.callbacks.History at 0x7f6635a2b588>"
            ]
          },
          "metadata": {
            "tags": []
          },
          "execution_count": 28
        }
      ]
    },
    {
      "cell_type": "code",
      "metadata": {
        "colab": {
          "base_uri": "https://localhost:8080/"
        },
        "id": "jv2hoT-dzZuE",
        "outputId": "e542cc2b-7fa6-4e9b-853b-32e162001af0"
      },
      "source": [
        "model.summary()"
      ],
      "execution_count": null,
      "outputs": [
        {
          "output_type": "stream",
          "text": [
            "Model: \"model_5\"\n",
            "_________________________________________________________________\n",
            "Layer (type)                 Output Shape              Param #   \n",
            "=================================================================\n",
            "input_10 (InputLayer)        [(None, 32, 32, 3)]       0         \n",
            "_________________________________________________________________\n",
            "conv2d_11 (Conv2D)           (None, 32, 32, 6)         456       \n",
            "_________________________________________________________________\n",
            "max_pooling2d_10 (MaxPooling (None, 16, 16, 6)         0         \n",
            "_________________________________________________________________\n",
            "conv2d_12 (Conv2D)           (None, 12, 12, 16)        2416      \n",
            "_________________________________________________________________\n",
            "max_pooling2d_11 (MaxPooling (None, 6, 6, 16)          0         \n",
            "_________________________________________________________________\n",
            "flatten_5 (Flatten)          (None, 576)               0         \n",
            "_________________________________________________________________\n",
            "dense_15 (Dense)             (None, 120)               69240     \n",
            "_________________________________________________________________\n",
            "dense_16 (Dense)             (None, 84)                10164     \n",
            "_________________________________________________________________\n",
            "dense_17 (Dense)             (None, 10)                850       \n",
            "=================================================================\n",
            "Total params: 83,126\n",
            "Trainable params: 83,126\n",
            "Non-trainable params: 0\n",
            "_________________________________________________________________\n"
          ],
          "name": "stdout"
        }
      ]
    },
    {
      "cell_type": "code",
      "metadata": {
        "id": "zdZ9ZWl61pGa"
      },
      "source": [
        ""
      ],
      "execution_count": null,
      "outputs": []
    }
  ]
}